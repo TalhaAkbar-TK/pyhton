{
 "cells": [
  {
   "cell_type": "markdown",
   "metadata": {},
   "source": [
    "# Operator"
   ]
  },
  {
   "cell_type": "markdown",
   "metadata": {},
   "source": [
    "### pemdas\n",
    "### Paraenthesis Exponenet Multiply Divide Addition Substraction\n",
    "### Left to Right For M D & A S"
   ]
  },
  {
   "cell_type": "code",
   "execution_count": null,
   "metadata": {},
   "outputs": [
    {
     "name": "stdout",
     "output_type": "stream",
     "text": [
      "Talha Akbar \n",
      "4\n",
      "3\n",
      "3.5\n",
      "8\n",
      "1\n",
      "9\n",
      "3\n",
      "6.5\n"
     ]
    }
   ],
   "source": [
    "print(\"Talha Akbar \")\n",
    "print(3+1)#Addition \n",
    "print(4-1)#Substraction\n",
    "print(7/2)# Divide\n",
    "print(2*4)#Multiply\n",
    "print(13%4)#reminder\n",
    "print(3**2)#power\n",
    "print(7//2)#divide with int answer \n",
    "print(3**2/2*3/3+6-4)"
   ]
  },
  {
   "cell_type": "markdown",
   "metadata": {},
   "source": [
    "# Strings"
   ]
  },
  {
   "cell_type": "code",
   "execution_count": null,
   "metadata": {},
   "outputs": [
    {
     "name": "stdout",
     "output_type": "stream",
     "text": [
      "Talha Akbar \n",
      "Single Quotes\n",
      "Double Quotes\n",
      " Tripple Quotes \n",
      "What's up\n"
     ]
    }
   ],
   "source": [
    "print(\"Talha Akbar \")\n",
    "print('Single Quotes')\n",
    "print(\"Double Quotes\")\n",
    "print(''' Tripple Quotes ''')\n",
    "\n",
    "print(\"What's up\")"
   ]
  },
  {
   "cell_type": "markdown",
   "metadata": {},
   "source": [
    "# varibales"
   ]
  },
  {
   "cell_type": "markdown",
   "metadata": {},
   "source": [
    "### varibales: object containing specific values\n",
    "\n",
    "### type of variables\n",
    "## Rule to assign a variable\n",
    "### 1- The varibale should contain letter, number or underscores.\n",
    "### 2- Do not start with number .\n",
    "### 3- Space are not allowed.\n",
    "### 4- Do not use keywords used in function (break , mean ,median,type etc). \n",
    "### 5- Short and descriptive \n",
    "### 6- Case senstivity (Lowercase, uppercase leater lower case letters should be used ).\n"
   ]
  },
  {
   "cell_type": "code",
   "execution_count": null,
   "metadata": {},
   "outputs": [
    {
     "name": "stdout",
     "output_type": "stream",
     "text": [
      "7\n",
      "i m talha akbar\n"
     ]
    }
   ],
   "source": [
    "x=7\n",
    "print(x)\n",
    "y=\"i m talha akbar\"\n",
    "print(y)"
   ]
  },
  {
   "cell_type": "code",
   "execution_count": null,
   "metadata": {},
   "outputs": [
    {
     "name": "stdout",
     "output_type": "stream",
     "text": [
      "<class 'int'>\n"
     ]
    }
   ],
   "source": [
    "type(x)\n",
    "print(type(x))"
   ]
  },
  {
   "cell_type": "code",
   "execution_count": null,
   "metadata": {},
   "outputs": [
    {
     "name": "stdout",
     "output_type": "stream",
     "text": [
      "talha akbar\n"
     ]
    }
   ],
   "source": [
    "names = \"talha akbar\"\n",
    "print(names)"
   ]
  },
  {
   "cell_type": "markdown",
   "metadata": {},
   "source": [
    "# Input Varibale"
   ]
  },
  {
   "cell_type": "code",
   "execution_count": 7,
   "metadata": {},
   "outputs": [],
   "source": [
    "name =input(\"Enter your name ?\")\n",
    "\n",
    "greetings =\"hello!\"\n",
    "print(greetings,name)"
   ]
  },
  {
   "cell_type": "markdown",
   "metadata": {},
   "source": [
    "# Conditional_logics"
   ]
  },
  {
   "cell_type": "markdown",
   "metadata": {},
   "source": [
    "### Logical operator are either \"true or false \"\n",
    "### equal to                ==\n",
    "### not equal to            !=\n",
    "### less then               <\n",
    "### greater then            >\n",
    "### greater then and equal to >=\n",
    "### less then and equal to  <="
   ]
  },
  {
   "cell_type": "code",
   "execution_count": null,
   "metadata": {},
   "outputs": [
    {
     "name": "stdout",
     "output_type": "stream",
     "text": [
      "True\n",
      "False\n",
      "True\n",
      "False\n",
      "False\n",
      "True\n"
     ]
    }
   ],
   "source": [
    "\n",
    "print(2==2)\n",
    "print (3!=3)\n",
    "print(4<5)\n",
    "print(4>5)\n",
    "print(5<=3)\n",
    "print(5>=4)"
   ]
  },
  {
   "cell_type": "code",
   "execution_count": null,
   "metadata": {},
   "outputs": [],
   "source": [
    "age_at_school = 6\n",
    "your_age=int(input(\"how old are you?\"))\n",
    "print(age_at_school==your_age)\n"
   ]
  },
  {
   "cell_type": "markdown",
   "metadata": {},
   "source": [
    "# Type Conversion"
   ]
  },
  {
   "cell_type": "code",
   "execution_count": null,
   "metadata": {},
   "outputs": [],
   "source": [
    "x=123 #integer\n",
    "y=10.3 #float\n",
    "z= \"hello\" #string"
   ]
  },
  {
   "cell_type": "markdown",
   "metadata": {},
   "source": [
    "### implicit type conversion"
   ]
  },
  {
   "cell_type": "code",
   "execution_count": null,
   "metadata": {},
   "outputs": [],
   "source": [
    "y= x+y #float\n",
    "print(type(y))"
   ]
  },
  {
   "cell_type": "markdown",
   "metadata": {},
   "source": [
    "### explicit type conversion"
   ]
  },
  {
   "cell_type": "code",
   "execution_count": null,
   "metadata": {},
   "outputs": [],
   "source": [
    "gpa=float(input(\"what is your GPA\"))\n",
    "print(\"your GPA is\",gpa)"
   ]
  },
  {
   "cell_type": "markdown",
   "metadata": {},
   "source": [
    "# if else elif "
   ]
  },
  {
   "cell_type": "code",
   "execution_count": null,
   "metadata": {},
   "outputs": [],
   "source": [
    "your_age=int(input(\"enter your age\"))\n",
    "school_age=5\n",
    "if your_age == school_age:\n",
    "    print(\"you can join the school\")\n",
    "elif your_age < school_age:\n",
    "    print(\"plz takecare of your baby\")\n",
    "else:\n",
    "    print(\"you cannot go to school\")"
   ]
  },
  {
   "cell_type": "markdown",
   "metadata": {},
   "source": [
    "# Function"
   ]
  },
  {
   "cell_type": "markdown",
   "metadata": {},
   "source": [
    "### defining a function"
   ]
  },
  {
   "cell_type": "markdown",
   "metadata": {},
   "source": [
    "### 1"
   ]
  },
  {
   "cell_type": "code",
   "execution_count": null,
   "metadata": {},
   "outputs": [],
   "source": [
    "def print_tk():\n",
    "    print(\"i m learning pyhton_1\")\n",
    "    print(\"i m learning pyhton_2\")\n",
    "    print(\"i m learning pyhton_3\")\n",
    "print_tk()"
   ]
  },
  {
   "cell_type": "markdown",
   "metadata": {},
   "source": [
    "### 2"
   ]
  },
  {
   "cell_type": "code",
   "execution_count": null,
   "metadata": {},
   "outputs": [],
   "source": [
    "def print_tk():\n",
    "    text =\"i m learning python\"\n",
    "    print(text)\n",
    "print_tk()"
   ]
  },
  {
   "cell_type": "markdown",
   "metadata": {},
   "source": [
    "### 3"
   ]
  },
  {
   "cell_type": "code",
   "execution_count": null,
   "metadata": {},
   "outputs": [],
   "source": [
    "def print_tk(text):\n",
    "    print(text)\n",
    "print_tk(\"i m learning python\")"
   ]
  },
  {
   "cell_type": "code",
   "execution_count": null,
   "metadata": {},
   "outputs": [],
   "source": [
    "def School_Cal(your_age):\n",
    "    school_age= 5\n",
    "    if your_age == school_age:\n",
    "        print(\"you can join the school\")\n",
    "    elif your_age < school_age:\n",
    "        print(\"plz takecare of your baby\")\n",
    "    else:\n",
    "        print(\"you cannot go to school\")\n",
    "School_Cal(3)"
   ]
  },
  {
   "cell_type": "code",
   "execution_count": null,
   "metadata": {},
   "outputs": [],
   "source": [
    "def Dollar_to_pkr(DL):\n",
    "    dollar=DL*224\n",
    "    return dollar\n",
    "dollar_to_rs = Dollar_to_pkr(100)\n",
    "print(dollar_to_rs)"
   ]
  },
  {
   "cell_type": "markdown",
   "metadata": {},
   "source": [
    "# Loops"
   ]
  },
  {
   "cell_type": "markdown",
   "metadata": {},
   "source": [
    "### while loop"
   ]
  },
  {
   "cell_type": "code",
   "execution_count": null,
   "metadata": {},
   "outputs": [],
   "source": [
    "x=0\n",
    "while (x<5):\n",
    "    print(x)\n",
    "    x=x+1"
   ]
  },
  {
   "cell_type": "markdown",
   "metadata": {},
   "source": [
    "### for loop"
   ]
  },
  {
   "cell_type": "code",
   "execution_count": null,
   "metadata": {},
   "outputs": [],
   "source": [
    "for x in range(2,13):\n",
    "    print(x)"
   ]
  },
  {
   "cell_type": "markdown",
   "metadata": {},
   "source": [
    "\n",
    "### array"
   ]
  },
  {
   "cell_type": "code",
   "execution_count": null,
   "metadata": {},
   "outputs": [],
   "source": [
    "days=[\"mon\",\"tue\",\"wed\",\"thu\",\"fri\",\"sat\",\"sun\"]\n",
    "\n",
    "for d in days:\n",
    "    if (d==\"wed\"): continue\n",
    "    if (d==\"sat\"): break\n",
    "    print(d)"
   ]
  },
  {
   "cell_type": "markdown",
   "metadata": {},
   "source": [
    "# Import Libaries"
   ]
  },
  {
   "cell_type": "code",
   "execution_count": null,
   "metadata": {},
   "outputs": [],
   "source": [
    "import math\n",
    "print (\"the values of pi is\",math.pi)\n",
    "\n",
    "import statistics\n",
    "x=[282,32,444,55,66]\n",
    "print(statistics.mean(x))"
   ]
  }
 ],
 "metadata": {
  "kernelspec": {
   "display_name": "Python 3.9.13 64-bit (windows store)",
   "language": "python",
   "name": "python3"
  },
  "language_info": {
   "codemirror_mode": {
    "name": "ipython",
    "version": 3
   },
   "file_extension": ".py",
   "mimetype": "text/x-python",
   "name": "python",
   "nbconvert_exporter": "python",
   "pygments_lexer": "ipython3",
   "version": "3.9.13"
  },
  "orig_nbformat": 4,
  "vscode": {
   "interpreter": {
    "hash": "938cbd16f14a10ea25976a722c31b92ce13aa013e406b945764cbafb4e39c540"
   }
  }
 },
 "nbformat": 4,
 "nbformat_minor": 2
}
